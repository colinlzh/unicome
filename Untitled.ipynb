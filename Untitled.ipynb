{
 "cells": [
  {
   "cell_type": "markdown",
   "metadata": {
    "collapsed": false
   },
   "source": [
    "##### n=[0]\n",
    "l=[0]\n",
    "i =0\n",
    "c=0\n",
    "left=[]\n",
    "right=[]\n",
    "compare=[]\n",
    "with open(\"compare\",'rb') as ifile:\n",
    "    for line in ifile:\n",
    "        line=line.decode('utf-8')\n",
    "        compare.append(line)\n",
    "with open(\"left\",'rb') as ifile:\n",
    "    for line in ifile:\n",
    "        line=line.decode('utf-8')\n",
    "        t=line.split(\":\")\n",
    "        s=line.replace(\":\"+t[-1],\"\")\n",
    "        left.append(s)\n",
    "# print(c)\n",
    "with open(\"right\",'rb') as ifile:\n",
    "    for line in ifile:\n",
    "        line=line.decode('utf-8')\n",
    "        t=line.split(\":\")\n",
    "        s=line.replace(\":\"+t[-1],\"\")\n",
    "        right.append(s)"
   ]
  },
  {
   "cell_type": "code",
   "execution_count": 12,
   "metadata": {
    "collapsed": false
   },
   "outputs": [],
   "source": [
    "n=[0]\n",
    "l=[0]\n",
    "i =0\n",
    "c=0\n",
    "left=[]\n",
    "right=[]\n",
    "compare=[]\n",
    "dic={}\n",
    "with open(\"left\",'rb') as ifile:\n",
    "    for line in ifile:\n",
    "        line=line.decode('utf-8').strip(\"\\r\\n\")\n",
    "        t=line.split(\":\")\n",
    "        s=line.replace(\":\"+t[-1],\"\")\n",
    "        dic[s]=int(t[-1])\n",
    "        left.append(s)\n",
    "with open(\"right\",'rb') as ifile:\n",
    "    for line in ifile:\n",
    "        line=line.decode('utf-8')\n",
    "        t=line.split(\":\")\n",
    "        s=line.replace(\":\"+t[-1],\"\")\n",
    "        right.append(s)\n",
    "with open(\"compare\",'rb') as ifile:\n",
    "    for line in ifile:\n",
    "        line=line.decode('utf-8')\n",
    "        compare.append(line)"
   ]
  },
  {
   "cell_type": "code",
   "execution_count": 39,
   "metadata": {
    "collapsed": false
   },
   "outputs": [],
   "source": [
    "final=[]\n",
    "c=0\n",
    "d=0\n",
    "flag=False\n",
    "for i in left:\n",
    "    testi=i.lower()\n",
    "    for j in right:\n",
    "        if testi==j.lower():\n",
    "            final.append(i+\",\"+j+\"\\r\\n\")\n",
    "            flag=True\n",
    "            d+=1\n",
    "            break\n",
    "        if \" \"in testi and j.lower()==testi.split(\" \")[-1]:\n",
    "            final.append(i+\",\"+j+\"\\r\\n\")\n",
    "            flag=True\n",
    "            d+=1\n",
    "            break\n",
    "    if flag:\n",
    "        flag=False\n",
    "    else:\n",
    "        final.append(i)\n",
    "    if c==2000:\n",
    "        break\n",
    "    c+=1"
   ]
  },
  {
   "cell_type": "code",
   "execution_count": 40,
   "metadata": {
    "collapsed": false,
    "scrolled": false
   },
   "outputs": [],
   "source": [
    "re=[]\n",
    "name=[]\n",
    "for i in compare:\n",
    "    name.append(i.split(\",\")[0])\n",
    "    re.append(i)\n",
    "for i in final:\n",
    "    if i in name:\n",
    "        continue\n",
    "    if \",\" not in i:\n",
    "        i=i+\",????????????\\r\\n\"\n",
    "    re.append(i)"
   ]
  },
  {
   "cell_type": "code",
   "execution_count": 41,
   "metadata": {
    "collapsed": false
   },
   "outputs": [],
   "source": [
    "name=set(name)\n",
    "c=0\n",
    "for i in name:\n",
    "    c+=dic[i] \n",
    "#     print(i)"
   ]
  },
  {
   "cell_type": "code",
   "execution_count": 42,
   "metadata": {
    "collapsed": false
   },
   "outputs": [
    {
     "data": {
      "text/plain": [
       "208"
      ]
     },
     "execution_count": 42,
     "metadata": {},
     "output_type": "execute_result"
    }
   ],
   "source": [
    "len(name)"
   ]
  },
  {
   "cell_type": "code",
   "execution_count": 43,
   "metadata": {
    "collapsed": false
   },
   "outputs": [
    {
     "data": {
      "text/plain": [
       "692506"
      ]
     },
     "execution_count": 43,
     "metadata": {},
     "output_type": "execute_result"
    }
   ],
   "source": [
    "c"
   ]
  },
  {
   "cell_type": "code",
   "execution_count": 44,
   "metadata": {
    "collapsed": false
   },
   "outputs": [
    {
     "data": {
      "text/plain": [
       "2132"
      ]
     },
     "execution_count": 44,
     "metadata": {},
     "output_type": "execute_result"
    }
   ],
   "source": [
    "len(re)"
   ]
  },
  {
   "cell_type": "code",
   "execution_count": 45,
   "metadata": {
    "collapsed": false
   },
   "outputs": [],
   "source": [
    "name=set()\n",
    "c=0\n",
    "for i in re:\n",
    "    name.add(i.split(\",\")[0])\n",
    "for i in name:\n",
    "#     print(i)\n",
    "    c+=dic[i]\n"
   ]
  },
  {
   "cell_type": "code",
   "execution_count": 47,
   "metadata": {
    "collapsed": false
   },
   "outputs": [
    {
     "data": {
      "text/plain": [
       "1228824"
      ]
     },
     "execution_count": 47,
     "metadata": {},
     "output_type": "execute_result"
    }
   ],
   "source": [
    "c"
   ]
  },
  {
   "cell_type": "code",
   "execution_count": 48,
   "metadata": {
    "collapsed": false
   },
   "outputs": [],
   "source": [
    "file_object = open('compare1', 'wb')\n",
    "for i in re:\n",
    "    file_object.write(i.encode(\"utf-8\"))\n",
    "file_object.close( )"
   ]
  },
  {
   "cell_type": "code",
   "execution_count": null,
   "metadata": {
    "collapsed": true
   },
   "outputs": [],
   "source": []
  }
 ],
 "metadata": {
  "kernelspec": {
   "display_name": "Python 3",
   "language": "python",
   "name": "python3"
  },
  "language_info": {
   "codemirror_mode": {
    "name": "ipython",
    "version": 3
   },
   "file_extension": ".py",
   "mimetype": "text/x-python",
   "name": "python",
   "nbconvert_exporter": "python",
   "pygments_lexer": "ipython3",
   "version": "3.4.3"
  }
 },
 "nbformat": 4,
 "nbformat_minor": 0
}
